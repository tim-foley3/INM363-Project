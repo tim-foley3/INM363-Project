{
 "cells": [
  {
   "cell_type": "code",
   "execution_count": 1,
   "id": "35ee10b0",
   "metadata": {},
   "outputs": [],
   "source": [
    "import os\n",
    "os.environ[\"ARCADE_HEADLESS\"] = \"true\"\n",
    "import arcade\n",
    "\n",
    "class App(arcade.Window):\n",
    "\n",
    "    def __init__(self):\n",
    "        super().__init__(200, 200)\n",
    "        self.frame = 0\n",
    "        self.sprite = arcade.Sprite(\n",
    "            \":resources:images/animated_characters/female_adventurer/femaleAdventurer_idle.png\",\n",
    "            center_x=self.width / 2,\n",
    "            center_y=self.height / 2,\n",
    "        )\n",
    "\n",
    "    def on_draw(self):\n",
    "        self.clear()\n",
    "        self.sprite.draw()\n",
    "\n",
    "        # Dump the window framebuffer to disk\n",
    "        image = arcade.get_image(0, 0, *self.get_size())\n",
    "        image.save(\"framebuffer.png\")\n",
    "\n",
    "    def on_update(self, delta_time: float):\n",
    "        # Close the window on the second frame\n",
    "        if self.frame == 2:\n",
    "            self.close()\n",
    "\n",
    "        self.frame += 1\n",
    "\n",
    "App().run()"
   ]
  },
  {
   "cell_type": "code",
   "execution_count": null,
   "id": "9f86ee2d",
   "metadata": {},
   "outputs": [],
   "source": []
  }
 ],
 "metadata": {
  "kernelspec": {
   "display_name": "gpu2",
   "language": "python",
   "name": "gpu2"
  },
  "language_info": {
   "codemirror_mode": {
    "name": "ipython",
    "version": 3
   },
   "file_extension": ".py",
   "mimetype": "text/x-python",
   "name": "python",
   "nbconvert_exporter": "python",
   "pygments_lexer": "ipython3",
   "version": "3.6.13"
  }
 },
 "nbformat": 4,
 "nbformat_minor": 5
}
